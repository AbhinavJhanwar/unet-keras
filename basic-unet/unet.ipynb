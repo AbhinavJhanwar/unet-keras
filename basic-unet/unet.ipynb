{
 "cells": [
  {
   "cell_type": "code",
   "execution_count": 1,
   "metadata": {
    "colab": {
     "base_uri": "https://localhost:8080/",
     "height": 35
    },
    "colab_type": "code",
    "id": "3Bacq5JPYGrs",
    "outputId": "5198ef58-569a-47cb-af9a-5c45b01c807d"
   },
   "outputs": [
    {
     "name": "stderr",
     "output_type": "stream",
     "text": [
      "Using TensorFlow backend.\n"
     ]
    }
   ],
   "source": [
    "from skimage.io import imread, imsave\n",
    "from skimage.transform import resize\n",
    "import matplotlib.pyplot as plt\n",
    "import numpy as np\n",
    "from tqdm import tqdm\n",
    "import os\n",
    "os.chdir('/content/drive/My Drive/Colab Notebooks/version1')\n",
    "from keras.callbacks import ModelCheckpoint, ReduceLROnPlateau, EarlyStopping\n",
    "from data import trainGenerator, validationGenerator, makePredictions\n",
    "from model import unet\n",
    "import gc\n",
    "from evaluate import my_iou_metric, iou_metric\n",
    "from keras.preprocessing.image import load_img, save_img\n",
    "from keras.models import load_model\n",
    "from keras.preprocessing.image import img_to_array\n",
    "\n",
    "gc.enable()"
   ]
  },
  {
   "cell_type": "markdown",
   "metadata": {
    "colab_type": "text",
    "id": "hWKwllCLYGrw"
   },
   "source": [
    "# 1. Define Input Parameters"
   ]
  },
  {
   "cell_type": "code",
   "execution_count": null,
   "metadata": {
    "colab": {
     "base_uri": "https://localhost:8080/",
     "height": 236
    },
    "colab_type": "code",
    "id": "9jx6WWdtYGrx",
    "outputId": "18daa117-72cf-4af7-f077-3060fa0aed48"
   },
   "outputs": [],
   "source": [
    "orig_data_dir = 'U_NET/validation'\n",
    "dest_data_dir = 'data/test/'\n",
    "\n",
    "orig_mask_dir = 'masks'\n",
    "dest_mask_dir = 'label'\n",
    "\n",
    "orig_image_dir = 'images'\n",
    "dest_image_dir = 'img'\n",
    "\n",
    "# loop throught all the image folders\n",
    "data_folders = os.listdir(orig_data_dir)\n",
    "for folder_name in tqdm(data_folders):\n",
    "    folder = os.path.join(orig_data_dir, folder_name)\n",
    "    \n",
    "    # get image\n",
    "    image = os.listdir(os.path.join(folder, orig_image_dir))\n",
    "    image = imread(os.path.join(folder, orig_image_dir, image[0]))\n",
    "    \n",
    "    # Now we take all masks associated with that image and combine them into one single mask\n",
    "    masks = os.listdir(os.path.join(folder, orig_mask_dir))\n",
    "    # create 0 values mask\n",
    "    new_mask = np.zeros((image.shape[0], image.shape[1], 1), dtype=np.bool)\n",
    "    for mask in masks:\n",
    "        mask_ = np.expand_dims(imread(os.path.join(folder, orig_mask_dir, mask)), axis=-1)\n",
    "        #plt.imshow(mask_[:,:,0])\n",
    "        #plt.show()\n",
    "        new_mask = np.maximum(new_mask, mask_)\n",
    "    #plt.imshow(new_mask[:,:,0])\n",
    "    #plt.show()\n",
    "    #plt.imshow(image)\n",
    "    #plt.show()\n",
    "    imsave(os.path.join(dest_data_dir, dest_mask_dir, folder_name+'.png'), new_mask)\n",
    "    imsave(os.path.join(dest_data_dir, dest_image_dir, folder_name+'.png'), image)"
   ]
  },
  {
   "cell_type": "markdown",
   "metadata": {
    "colab_type": "text",
    "id": "TACr8hmFYGrz"
   },
   "source": [
    "# 2. Load Data"
   ]
  },
  {
   "cell_type": "code",
   "execution_count": 3,
   "metadata": {
    "colab": {},
    "colab_type": "code",
    "id": "3Ms71vE7YGr0"
   },
   "outputs": [],
   "source": [
    "data_gen_train = dict(rescale=1./255\n",
    "                     #rotation_range=0.2,\n",
    "                     #width_shift_range=0.05,\n",
    "                     #height_shift_range=0.05,\n",
    "                     #shear_range=0.05,\n",
    "                     #zoom_range=0.05,\n",
    "                     #horizontal_flip=True,\n",
    "                     #fill_mode='nearest'\n",
    "                     )\n",
    "\n",
    "data_gen_test = dict(rescale=1./255)\n",
    "\n",
    "train_gen = trainGenerator(16, \n",
    "                           'data/train', \n",
    "                           'img', \n",
    "                           'label', \n",
    "                           data_gen_train,\n",
    "                           image_color_mode='rgb',\n",
    "                           target_size=(128,128))\n",
    "\n",
    "test_gen = validationGenerator(8, \n",
    "                               'data/val', \n",
    "                               'img', \n",
    "                               'label', \n",
    "                               data_gen_test, \n",
    "                               image_color_mode='rgb',\n",
    "                               target_size=(128,128))"
   ]
  },
  {
   "cell_type": "markdown",
   "metadata": {
    "colab_type": "text",
    "id": "B_WCDva4YGr2"
   },
   "source": [
    "# 3. Setup the Model"
   ]
  },
  {
   "cell_type": "code",
   "execution_count": 4,
   "metadata": {
    "colab": {
     "base_uri": "https://localhost:8080/",
     "height": 1000
    },
    "colab_type": "code",
    "id": "4p5POga7YGr3",
    "outputId": "d8c60e7c-c221-4bb0-b9bc-045a5e8ebc6b"
   },
   "outputs": [
    {
     "name": "stdout",
     "output_type": "stream",
     "text": [
      "WARNING:tensorflow:From /usr/local/lib/python3.6/dist-packages/keras/backend/tensorflow_backend.py:74: The name tf.get_default_graph is deprecated. Please use tf.compat.v1.get_default_graph instead.\n",
      "\n",
      "WARNING:tensorflow:From /usr/local/lib/python3.6/dist-packages/keras/backend/tensorflow_backend.py:517: The name tf.placeholder is deprecated. Please use tf.compat.v1.placeholder instead.\n",
      "\n",
      "WARNING:tensorflow:From /usr/local/lib/python3.6/dist-packages/keras/backend/tensorflow_backend.py:4185: The name tf.truncated_normal is deprecated. Please use tf.random.truncated_normal instead.\n",
      "\n",
      "WARNING:tensorflow:From /usr/local/lib/python3.6/dist-packages/keras/backend/tensorflow_backend.py:3976: The name tf.nn.max_pool is deprecated. Please use tf.nn.max_pool2d instead.\n",
      "\n",
      "WARNING:tensorflow:From /usr/local/lib/python3.6/dist-packages/keras/backend/tensorflow_backend.py:133: The name tf.placeholder_with_default is deprecated. Please use tf.compat.v1.placeholder_with_default instead.\n",
      "\n",
      "WARNING:tensorflow:From /usr/local/lib/python3.6/dist-packages/keras/backend/tensorflow_backend.py:3445: calling dropout (from tensorflow.python.ops.nn_ops) with keep_prob is deprecated and will be removed in a future version.\n",
      "Instructions for updating:\n",
      "Please use `rate` instead of `keep_prob`. Rate should be set to `rate = 1 - keep_prob`.\n",
      "WARNING:tensorflow:From /usr/local/lib/python3.6/dist-packages/keras/backend/tensorflow_backend.py:4138: The name tf.random_uniform is deprecated. Please use tf.random.uniform instead.\n",
      "\n",
      "WARNING:tensorflow:From /usr/local/lib/python3.6/dist-packages/keras/optimizers.py:790: The name tf.train.Optimizer is deprecated. Please use tf.compat.v1.train.Optimizer instead.\n",
      "\n",
      "WARNING:tensorflow:From /usr/local/lib/python3.6/dist-packages/keras/backend/tensorflow_backend.py:3376: The name tf.log is deprecated. Please use tf.math.log instead.\n",
      "\n",
      "WARNING:tensorflow:From /usr/local/lib/python3.6/dist-packages/tensorflow_core/python/ops/nn_impl.py:183: where (from tensorflow.python.ops.array_ops) is deprecated and will be removed in a future version.\n",
      "Instructions for updating:\n",
      "Use tf.where in 2.0, which has the same broadcast rule as np.where\n",
      "WARNING:tensorflow:From /content/drive/My Drive/Colab Notebooks/version1/evaluate.py:76: py_func (from tensorflow.python.ops.script_ops) is deprecated and will be removed in a future version.\n",
      "Instructions for updating:\n",
      "tf.py_func is deprecated in TF V2. Instead, there are two\n",
      "    options available in V2.\n",
      "    - tf.py_function takes a python function which manipulates tf eager\n",
      "    tensors instead of numpy arrays. It's easy to convert a tf eager tensor to\n",
      "    an ndarray (just call tensor.numpy()) but having access to eager tensors\n",
      "    means `tf.py_function`s can use accelerators such as GPUs as well as\n",
      "    being differentiable using a gradient tape.\n",
      "    - tf.numpy_function maintains the semantics of the deprecated tf.py_func\n",
      "    (it is not differentiable, and manipulates numpy arrays). It drops the\n",
      "    stateful argument making all functions stateful.\n",
      "    \n",
      "__________________________________________________________________________________________________\n",
      "Layer (type)                    Output Shape         Param #     Connected to                     \n",
      "==================================================================================================\n",
      "input_1 (InputLayer)            (None, 128, 128, 3)  0                                            \n",
      "__________________________________________________________________________________________________\n",
      "conv2d_1 (Conv2D)               (None, 128, 128, 64) 1792        input_1[0][0]                    \n",
      "__________________________________________________________________________________________________\n",
      "conv2d_2 (Conv2D)               (None, 128, 128, 64) 36928       conv2d_1[0][0]                   \n",
      "__________________________________________________________________________________________________\n",
      "max_pooling2d_1 (MaxPooling2D)  (None, 64, 64, 64)   0           conv2d_2[0][0]                   \n",
      "__________________________________________________________________________________________________\n",
      "conv2d_3 (Conv2D)               (None, 64, 64, 128)  73856       max_pooling2d_1[0][0]            \n",
      "__________________________________________________________________________________________________\n",
      "conv2d_4 (Conv2D)               (None, 64, 64, 128)  147584      conv2d_3[0][0]                   \n",
      "__________________________________________________________________________________________________\n",
      "max_pooling2d_2 (MaxPooling2D)  (None, 32, 32, 128)  0           conv2d_4[0][0]                   \n",
      "__________________________________________________________________________________________________\n",
      "conv2d_5 (Conv2D)               (None, 32, 32, 256)  295168      max_pooling2d_2[0][0]            \n",
      "__________________________________________________________________________________________________\n",
      "conv2d_6 (Conv2D)               (None, 32, 32, 256)  590080      conv2d_5[0][0]                   \n",
      "__________________________________________________________________________________________________\n",
      "max_pooling2d_3 (MaxPooling2D)  (None, 16, 16, 256)  0           conv2d_6[0][0]                   \n",
      "__________________________________________________________________________________________________\n",
      "conv2d_7 (Conv2D)               (None, 16, 16, 512)  1180160     max_pooling2d_3[0][0]            \n",
      "__________________________________________________________________________________________________\n",
      "conv2d_8 (Conv2D)               (None, 16, 16, 512)  2359808     conv2d_7[0][0]                   \n",
      "__________________________________________________________________________________________________\n",
      "dropout_1 (Dropout)             (None, 16, 16, 512)  0           conv2d_8[0][0]                   \n",
      "__________________________________________________________________________________________________\n",
      "max_pooling2d_4 (MaxPooling2D)  (None, 8, 8, 512)    0           dropout_1[0][0]                  \n",
      "__________________________________________________________________________________________________\n",
      "conv2d_9 (Conv2D)               (None, 8, 8, 1024)   4719616     max_pooling2d_4[0][0]            \n",
      "__________________________________________________________________________________________________\n",
      "conv2d_10 (Conv2D)              (None, 8, 8, 1024)   9438208     conv2d_9[0][0]                   \n",
      "__________________________________________________________________________________________________\n",
      "dropout_2 (Dropout)             (None, 8, 8, 1024)   0           conv2d_10[0][0]                  \n",
      "__________________________________________________________________________________________________\n",
      "conv2d_transpose_1 (Conv2DTrans (None, 16, 16, 512)  2097664     dropout_2[0][0]                  \n",
      "__________________________________________________________________________________________________\n",
      "concatenate_1 (Concatenate)     (None, 16, 16, 1024) 0           conv2d_transpose_1[0][0]         \n",
      "                                                                 dropout_1[0][0]                  \n",
      "__________________________________________________________________________________________________\n",
      "conv2d_11 (Conv2D)              (None, 16, 16, 512)  4719104     concatenate_1[0][0]              \n",
      "__________________________________________________________________________________________________\n",
      "conv2d_12 (Conv2D)              (None, 16, 16, 512)  2359808     conv2d_11[0][0]                  \n",
      "__________________________________________________________________________________________________\n",
      "conv2d_transpose_2 (Conv2DTrans (None, 32, 32, 256)  524544      conv2d_12[0][0]                  \n",
      "__________________________________________________________________________________________________\n",
      "concatenate_2 (Concatenate)     (None, 32, 32, 512)  0           conv2d_transpose_2[0][0]         \n",
      "                                                                 conv2d_6[0][0]                   \n",
      "__________________________________________________________________________________________________\n",
      "conv2d_13 (Conv2D)              (None, 32, 32, 256)  1179904     concatenate_2[0][0]              \n",
      "__________________________________________________________________________________________________\n",
      "conv2d_14 (Conv2D)              (None, 32, 32, 256)  590080      conv2d_13[0][0]                  \n",
      "__________________________________________________________________________________________________\n",
      "conv2d_transpose_3 (Conv2DTrans (None, 64, 64, 128)  131200      conv2d_14[0][0]                  \n",
      "__________________________________________________________________________________________________\n",
      "concatenate_3 (Concatenate)     (None, 64, 64, 256)  0           conv2d_transpose_3[0][0]         \n",
      "                                                                 conv2d_4[0][0]                   \n",
      "__________________________________________________________________________________________________\n",
      "conv2d_15 (Conv2D)              (None, 64, 64, 128)  295040      concatenate_3[0][0]              \n",
      "__________________________________________________________________________________________________\n",
      "conv2d_16 (Conv2D)              (None, 64, 64, 128)  147584      conv2d_15[0][0]                  \n",
      "__________________________________________________________________________________________________\n",
      "conv2d_transpose_4 (Conv2DTrans (None, 128, 128, 64) 32832       conv2d_16[0][0]                  \n",
      "__________________________________________________________________________________________________\n",
      "concatenate_4 (Concatenate)     (None, 128, 128, 128 0           conv2d_transpose_4[0][0]         \n",
      "                                                                 conv2d_2[0][0]                   \n",
      "__________________________________________________________________________________________________\n",
      "conv2d_17 (Conv2D)              (None, 128, 128, 64) 73792       concatenate_4[0][0]              \n",
      "__________________________________________________________________________________________________\n",
      "conv2d_18 (Conv2D)              (None, 128, 128, 64) 36928       conv2d_17[0][0]                  \n",
      "__________________________________________________________________________________________________\n",
      "conv2d_19 (Conv2D)              (None, 128, 128, 1)  65          conv2d_18[0][0]                  \n",
      "==================================================================================================\n",
      "Total params: 31,031,745\n",
      "Trainable params: 31,031,745\n",
      "Non-trainable params: 0\n",
      "__________________________________________________________________________________________________\n",
      "None\n"
     ]
    },
    {
     "name": "stderr",
     "output_type": "stream",
     "text": [
      "/content/drive/My Drive/Colab Notebooks/version1/model.py:58: UserWarning: Update your `Model` call to the Keras 2 API: `Model(inputs=Tensor(\"in..., outputs=Tensor(\"co...)`\n",
      "  model = Model(input=inputs, output=conv10)\n"
     ]
    }
   ],
   "source": [
    "model = unet(input_size=(128,128,3))"
   ]
  },
  {
   "cell_type": "markdown",
   "metadata": {
    "colab_type": "text",
    "id": "hLAOBclDYGr_"
   },
   "source": [
    "# 4. Define other model parameters"
   ]
  },
  {
   "cell_type": "code",
   "execution_count": 5,
   "metadata": {
    "colab": {},
    "colab_type": "code",
    "id": "Mend3NGTYGsA"
   },
   "outputs": [],
   "source": [
    "early_stopping = EarlyStopping(monitor='val_loss',\n",
    "                               min_delta = 0,\n",
    "                               patience=5, \n",
    "                               verbose=1,\n",
    "                               restore_best_weights=True)\n",
    "\n",
    "model_checkpoint = ModelCheckpoint('unet.h5', \n",
    "                                   monitor='val_loss', \n",
    "                                   mode='min',\n",
    "                                   verbose=1, \n",
    "                                   save_best_only=True)\n",
    "\n",
    "reduce_lr = ReduceLROnPlateau(monitor='val_loss',\n",
    "                              factor = 0.2,\n",
    "                              min_delta=0.0001,\n",
    "                              patience=3,\n",
    "                              verbose=1)"
   ]
  },
  {
   "cell_type": "markdown",
   "metadata": {
    "colab_type": "text",
    "id": "qV0QGHuIYGsD"
   },
   "source": [
    "# 5. Fitting the model"
   ]
  },
  {
   "cell_type": "code",
   "execution_count": 6,
   "metadata": {
    "colab": {
     "base_uri": "https://localhost:8080/",
     "height": 1000
    },
    "colab_type": "code",
    "id": "X_LFwPNDVGVz",
    "outputId": "7cea40ec-b248-4cb6-aad9-6d985fd120ca"
   },
   "outputs": [
    {
     "name": "stdout",
     "output_type": "stream",
     "text": [
      "WARNING:tensorflow:From /usr/local/lib/python3.6/dist-packages/keras/backend/tensorflow_backend.py:986: The name tf.assign_add is deprecated. Please use tf.compat.v1.assign_add instead.\n",
      "\n",
      "WARNING:tensorflow:From /usr/local/lib/python3.6/dist-packages/keras/backend/tensorflow_backend.py:973: The name tf.assign is deprecated. Please use tf.compat.v1.assign instead.\n",
      "\n",
      "WARNING:tensorflow:From /usr/local/lib/python3.6/dist-packages/keras/backend/tensorflow_backend.py:2741: The name tf.Session is deprecated. Please use tf.compat.v1.Session instead.\n",
      "\n",
      "Epoch 1/25\n",
      "Found 60 images belonging to 1 classes.\n",
      "Found 610 images belonging to 1 classes.\n",
      "Found 60 images belonging to 1 classes.\n",
      "Found 610 images belonging to 1 classes.\n",
      "WARNING:tensorflow:From /usr/local/lib/python3.6/dist-packages/keras/backend/tensorflow_backend.py:174: The name tf.get_default_session is deprecated. Please use tf.compat.v1.get_default_session instead.\n",
      "\n",
      "WARNING:tensorflow:From /usr/local/lib/python3.6/dist-packages/keras/backend/tensorflow_backend.py:181: The name tf.ConfigProto is deprecated. Please use tf.compat.v1.ConfigProto instead.\n",
      "\n",
      "WARNING:tensorflow:From /usr/local/lib/python3.6/dist-packages/keras/backend/tensorflow_backend.py:190: The name tf.global_variables is deprecated. Please use tf.compat.v1.global_variables instead.\n",
      "\n",
      "WARNING:tensorflow:From /usr/local/lib/python3.6/dist-packages/keras/backend/tensorflow_backend.py:199: The name tf.is_variable_initialized is deprecated. Please use tf.compat.v1.is_variable_initialized instead.\n",
      "\n",
      "WARNING:tensorflow:From /usr/local/lib/python3.6/dist-packages/keras/backend/tensorflow_backend.py:206: The name tf.variables_initializer is deprecated. Please use tf.compat.v1.variables_initializer instead.\n",
      "\n",
      "38/38 [==============================] - 31s 812ms/step - loss: 0.4532 - acc: 0.8517 - my_iou_metric: 0.0178 - val_loss: 0.1988 - val_acc: 0.9058 - val_my_iou_metric: 0.1600\n",
      "\n",
      "Epoch 00001: val_loss improved from inf to 0.19878, saving model to unet.h5\n",
      "Epoch 2/25\n",
      "38/38 [==============================] - 22s 586ms/step - loss: 0.1556 - acc: 0.9326 - my_iou_metric: 0.2561 - val_loss: 0.1318 - val_acc: 0.9470 - val_my_iou_metric: 0.3665\n",
      "\n",
      "Epoch 00002: val_loss improved from 0.19878 to 0.13177, saving model to unet.h5\n",
      "Epoch 3/25\n",
      "38/38 [==============================] - 18s 467ms/step - loss: 0.1099 - acc: 0.9579 - my_iou_metric: 0.4059 - val_loss: 0.0879 - val_acc: 0.9659 - val_my_iou_metric: 0.5203\n",
      "\n",
      "Epoch 00003: val_loss improved from 0.13177 to 0.08794, saving model to unet.h5\n",
      "Epoch 4/25\n",
      "38/38 [==============================] - 18s 469ms/step - loss: 0.0920 - acc: 0.9650 - my_iou_metric: 0.4701 - val_loss: 0.0989 - val_acc: 0.9623 - val_my_iou_metric: 0.5063\n",
      "\n",
      "Epoch 00004: val_loss did not improve from 0.08794\n",
      "Epoch 5/25\n",
      "38/38 [==============================] - 18s 467ms/step - loss: 0.0782 - acc: 0.9700 - my_iou_metric: 0.5039 - val_loss: 0.0711 - val_acc: 0.9709 - val_my_iou_metric: 0.5448\n",
      "\n",
      "Epoch 00005: val_loss improved from 0.08794 to 0.07113, saving model to unet.h5\n",
      "Epoch 6/25\n",
      "38/38 [==============================] - 18s 467ms/step - loss: 0.0773 - acc: 0.9704 - my_iou_metric: 0.5189 - val_loss: 0.1004 - val_acc: 0.9600 - val_my_iou_metric: 0.5477\n",
      "\n",
      "Epoch 00006: val_loss did not improve from 0.07113\n",
      "Epoch 7/25\n",
      "38/38 [==============================] - 18s 469ms/step - loss: 0.0713 - acc: 0.9730 - my_iou_metric: 0.5224 - val_loss: 0.0727 - val_acc: 0.9720 - val_my_iou_metric: 0.5714\n",
      "\n",
      "Epoch 00007: val_loss did not improve from 0.07113\n",
      "Epoch 8/25\n",
      "38/38 [==============================] - 18s 464ms/step - loss: 0.0709 - acc: 0.9729 - my_iou_metric: 0.5314 - val_loss: 0.0736 - val_acc: 0.9703 - val_my_iou_metric: 0.5656\n",
      "\n",
      "Epoch 00008: val_loss did not improve from 0.07113\n",
      "\n",
      "Epoch 00008: ReduceLROnPlateau reducing learning rate to 0.00020000000949949026.\n",
      "Epoch 9/25\n",
      "38/38 [==============================] - 18s 467ms/step - loss: 0.0663 - acc: 0.9744 - my_iou_metric: 0.5416 - val_loss: 0.0746 - val_acc: 0.9696 - val_my_iou_metric: 0.5635\n",
      "\n",
      "Epoch 00009: val_loss did not improve from 0.07113\n",
      "Epoch 10/25\n",
      "38/38 [==============================] - 18s 466ms/step - loss: 0.0628 - acc: 0.9753 - my_iou_metric: 0.5560 - val_loss: 0.0671 - val_acc: 0.9732 - val_my_iou_metric: 0.5531\n",
      "\n",
      "Epoch 00010: val_loss improved from 0.07113 to 0.06708, saving model to unet.h5\n",
      "Epoch 11/25\n",
      "38/38 [==============================] - 18s 465ms/step - loss: 0.0616 - acc: 0.9764 - my_iou_metric: 0.5522 - val_loss: 0.0604 - val_acc: 0.9757 - val_my_iou_metric: 0.5856\n",
      "\n",
      "Epoch 00011: val_loss improved from 0.06708 to 0.06039, saving model to unet.h5\n",
      "Epoch 12/25\n",
      "38/38 [==============================] - 18s 466ms/step - loss: 0.0619 - acc: 0.9755 - my_iou_metric: 0.5537 - val_loss: 0.0869 - val_acc: 0.9649 - val_my_iou_metric: 0.5561\n",
      "\n",
      "Epoch 00012: val_loss did not improve from 0.06039\n",
      "Epoch 13/25\n",
      "38/38 [==============================] - 18s 464ms/step - loss: 0.0623 - acc: 0.9755 - my_iou_metric: 0.5587 - val_loss: 0.0525 - val_acc: 0.9791 - val_my_iou_metric: 0.5928\n",
      "\n",
      "Epoch 00013: val_loss improved from 0.06039 to 0.05252, saving model to unet.h5\n",
      "Epoch 14/25\n",
      "38/38 [==============================] - 18s 468ms/step - loss: 0.0617 - acc: 0.9760 - my_iou_metric: 0.5578 - val_loss: 0.0703 - val_acc: 0.9712 - val_my_iou_metric: 0.5943\n",
      "\n",
      "Epoch 00014: val_loss did not improve from 0.05252\n",
      "Epoch 15/25\n",
      "38/38 [==============================] - 18s 466ms/step - loss: 0.0565 - acc: 0.9776 - my_iou_metric: 0.5607 - val_loss: 0.0718 - val_acc: 0.9707 - val_my_iou_metric: 0.5620\n",
      "\n",
      "Epoch 00015: val_loss did not improve from 0.05252\n",
      "Epoch 16/25\n",
      "38/38 [==============================] - 18s 465ms/step - loss: 0.0631 - acc: 0.9755 - my_iou_metric: 0.5605 - val_loss: 0.0737 - val_acc: 0.9701 - val_my_iou_metric: 0.5846\n",
      "\n",
      "Epoch 00016: val_loss did not improve from 0.05252\n",
      "\n",
      "Epoch 00016: ReduceLROnPlateau reducing learning rate to 4.0000001899898055e-05.\n",
      "Epoch 17/25\n",
      "38/38 [==============================] - 18s 469ms/step - loss: 0.0597 - acc: 0.9762 - my_iou_metric: 0.5425 - val_loss: 0.0660 - val_acc: 0.9731 - val_my_iou_metric: 0.5953\n",
      "\n",
      "Epoch 00017: val_loss did not improve from 0.05252\n",
      "Epoch 18/25\n",
      "38/38 [==============================] - 18s 466ms/step - loss: 0.0583 - acc: 0.9768 - my_iou_metric: 0.5694 - val_loss: 0.0700 - val_acc: 0.9716 - val_my_iou_metric: 0.5661\n",
      "\n",
      "Epoch 00018: val_loss did not improve from 0.05252\n",
      "Restoring model weights from the end of the best epoch\n",
      "Epoch 00018: early stopping\n"
     ]
    }
   ],
   "source": [
    "history = model.fit_generator(train_gen, \n",
    "                              steps_per_epoch=610//16, \n",
    "                              epochs=25,\n",
    "                              validation_data=test_gen,\n",
    "                              validation_steps=60//8,\n",
    "                              callbacks=[model_checkpoint, early_stopping, reduce_lr])"
   ]
  },
  {
   "cell_type": "markdown",
   "metadata": {
    "colab_type": "text",
    "id": "sYXP1EyJYGsF"
   },
   "source": [
    "# 6. Predictions"
   ]
  },
  {
   "cell_type": "code",
   "execution_count": 2,
   "metadata": {
    "colab": {
     "base_uri": "https://localhost:8080/",
     "height": 35
    },
    "colab_type": "code",
    "id": "OhUM_ITDYGsG",
    "outputId": "d4f7b402-5f80-415f-dbf3-3f10219a7386",
    "scrolled": false
   },
   "outputs": [
    {
     "name": "stderr",
     "output_type": "stream",
     "text": [
      "100%|██████████| 60/60 [00:04<00:00, 13.60it/s]\n"
     ]
    }
   ],
   "source": [
    "# add the custom metric object to load the model\n",
    "custom_object = {'my_iou_metric': my_iou_metric}\n",
    "\n",
    "# images dir\n",
    "test_images_dir = 'data/val/img'\n",
    "# output dir\n",
    "test_output_dir = 'data/val/prediction'\n",
    "\n",
    "# make predictions\n",
    "makePredictions(test_output_dir, test_images_dir, 'unet.h5', custom_object)    "
   ]
  },
  {
   "cell_type": "markdown",
   "metadata": {
    "colab_type": "text",
    "id": "ejK0FFlXzaNX"
   },
   "source": [
    "# 6. Evaluating Model"
   ]
  },
  {
   "cell_type": "code",
   "execution_count": 14,
   "metadata": {
    "colab": {
     "base_uri": "https://localhost:8080/",
     "height": 1000
    },
    "colab_type": "code",
    "id": "gJrZB-T5J0oj",
    "outputId": "12253594-1130-4f0d-bf03-7d9d1bbcb8b4"
   },
   "outputs": [
    {
     "data": {
      "image/png": "[encoded data removed]",
      "text/plain": [
       "<Figure size 432x288 with 1 Axes>"
      ]
     },
     "metadata": {
      "needs_background": "light",
      "tags": []
     },
     "output_type": "display_data"
    },
    {
     "data": {
      "image/png": "[encoded data removed]",
      "text/plain": [
       "<Figure size 432x288 with 1 Axes>"
      ]
     },
     "metadata": {
      "needs_background": "light",
      "tags": []
     },
     "output_type": "display_data"
    },
    {
     "data": {
      "image/png": "[encoded data removed]",
      "text/plain": [
       "<Figure size 432x288 with 1 Axes>"
      ]
     },
     "metadata": {
      "needs_background": "light",
      "tags": []
     },
     "output_type": "display_data"
    },
    {
     "name": "stdout",
     "output_type": "stream",
     "text": [
      "Thresh\tTP\tFP\tFN\tPrec.\n",
      "0.500\t26\t16\t0\t0.619\n",
      "0.550\t26\t16\t0\t0.619\n",
      "0.600\t26\t16\t0\t0.619\n",
      "0.650\t26\t16\t0\t0.619\n",
      "0.700\t25\t17\t1\t0.581\n",
      "0.750\t24\t18\t2\t0.545\n",
      "0.800\t24\t18\t2\t0.545\n",
      "0.850\t22\t20\t4\t0.478\n",
      "0.900\t19\t23\t7\t0.388\n",
      "0.950\t10\t32\t16\t0.172\n",
      "AP\t-\t-\t-\t0.519\n"
     ]
    },
    {
     "data": {
      "text/plain": [
       "0.5186924680646258"
      ]
     },
     "execution_count": 14,
     "metadata": {
      "tags": []
     },
     "output_type": "execute_result"
    }
   ],
   "source": [
    "# define custom object\n",
    "custom_object = {'my_iou_metric': my_iou_metric}\n",
    "# load model\n",
    "model = load_model('unet.h5', custom_objects=custom_object)\n",
    "\n",
    "# images dir\n",
    "test_images_dir = 'data/val/img'\n",
    "# labels dir\n",
    "test_labels_dir = 'data/val/label'\n",
    "\n",
    "# get prediction and ground truth values\n",
    "test_images = os.listdir(test_images_dir)\n",
    "test_image = test_images[np.random.randint(0, len(test_images), 1)[0]]\n",
    "x_test = load_img(os.path.join(test_images_dir, test_image), target_size=(128,128))\n",
    "plt.title('Image')\n",
    "plt.imshow(x_test)\n",
    "plt.show()\n",
    "\n",
    "input_arr = img_to_array(x_test)\n",
    "input_arr = np.array([input_arr])  # Convert single image to a batch.\n",
    "prediction = model.predict(input_arr)\n",
    "plt.title('Predicted Mask')\n",
    "plt.imshow(prediction[0,:,:,0], cmap='gray')\n",
    "plt.show()\n",
    "\n",
    "gt = load_img(os.path.join(test_labels_dir, test_image), color_mode='grayscale', target_size=(128,128))\n",
    "plt.title('Ground Truth')\n",
    "plt.imshow(gt, cmap='gray')\n",
    "plt.show()\n",
    "gt = img_to_array(gt)\n",
    "\n",
    "prediction_scaled = prediction[0,:,:,:]\n",
    "gt_scaled = gt/255\n",
    "\n",
    "iou_metric(gt_scaled, prediction_scaled, print_table=True)"
   ]
  }
 ],
 "metadata": {
  "accelerator": "GPU",
  "colab": {
   "collapsed_sections": [],
   "name": "vgg.ipynb",
   "provenance": []
  },
  "kernelspec": {
   "display_name": "Python 3",
   "language": "python",
   "name": "python3"
  },
  "language_info": {
   "codemirror_mode": {
    "name": "ipython",
    "version": 3
   },
   "file_extension": ".py",
   "mimetype": "text/x-python",
   "name": "python",
   "nbconvert_exporter": "python",
   "pygments_lexer": "ipython3",
   "version": "3.6.10"
  }
 },
 "nbformat": 4,
 "nbformat_minor": 1
}
